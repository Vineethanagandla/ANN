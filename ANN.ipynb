{
  "nbformat": 4,
  "nbformat_minor": 0,
  "metadata": {
    "colab": {
      "provenance": [],
      "gpuType": "T4"
    },
    "kernelspec": {
      "name": "python3",
      "display_name": "Python 3"
    },
    "language_info": {
      "name": "python"
    },
    "accelerator": "GPU"
  },
  "cells": [
    {
      "cell_type": "code",
      "execution_count": 1,
      "metadata": {
        "id": "hbfS3BZz08P4"
      },
      "outputs": [],
      "source": [
        "# import required libraries\n",
        "import pandas as pd\n",
        "import numpy as np\n",
        "from sklearn.preprocessing import StandardScaler\n",
        "from sklearn.model_selection import train_test_split, GridSearchCV\n",
        "from imblearn import under_sampling\n",
        "from keras.models import Sequential\n",
        "from keras.layers import Dense,Dropout, BatchNormalization, Flatten,Conv1D,\n",
        "from keras.optimizers import Adam\n",
        "from keras.wrappers.scikit_learn import KerasClassifier\n",
        "import matplotlib.pyplot as plt\n",
        "from sklearn.metrics import classification_report, accuracy_score, confusion_matrix, ConfusionMatrixDisplay\n",
        "import warnings\n",
        "warnings.filterwarnings('ignore')"
      ]
    },
    {
      "cell_type": "code",
      "source": [
        "# load the dataset\n",
        "data = pd.read_csv(\"/content/drive/MyDrive/creditcard.csv\")"
      ],
      "metadata": {
        "id": "GhwhWgjJ6MlH"
      },
      "execution_count": 2,
      "outputs": []
    },
    {
      "cell_type": "code",
      "source": [
        "# print first 10 rows in a dataframe\n",
        "print(data.head(10))"
      ],
      "metadata": {
        "colab": {
          "base_uri": "https://localhost:8080/"
        },
        "id": "XHcy6tK36VR2",
        "outputId": "58fd887b-9915-42a8-dadd-1cebf69ad15d"
      },
      "execution_count": 3,
      "outputs": [
        {
          "output_type": "stream",
          "name": "stdout",
          "text": [
            "   Time        V1        V2        V3        V4        V5        V6        V7  \\\n",
            "0   0.0 -1.359807 -0.072781  2.536347  1.378155 -0.338321  0.462388  0.239599   \n",
            "1   0.0  1.191857  0.266151  0.166480  0.448154  0.060018 -0.082361 -0.078803   \n",
            "2   1.0 -1.358354 -1.340163  1.773209  0.379780 -0.503198  1.800499  0.791461   \n",
            "3   1.0 -0.966272 -0.185226  1.792993 -0.863291 -0.010309  1.247203  0.237609   \n",
            "4   2.0 -1.158233  0.877737  1.548718  0.403034 -0.407193  0.095921  0.592941   \n",
            "5   2.0 -0.425966  0.960523  1.141109 -0.168252  0.420987 -0.029728  0.476201   \n",
            "6   4.0  1.229658  0.141004  0.045371  1.202613  0.191881  0.272708 -0.005159   \n",
            "7   7.0 -0.644269  1.417964  1.074380 -0.492199  0.948934  0.428118  1.120631   \n",
            "8   7.0 -0.894286  0.286157 -0.113192 -0.271526  2.669599  3.721818  0.370145   \n",
            "9   9.0 -0.338262  1.119593  1.044367 -0.222187  0.499361 -0.246761  0.651583   \n",
            "\n",
            "         V8        V9  ...       V21       V22       V23       V24       V25  \\\n",
            "0  0.098698  0.363787  ... -0.018307  0.277838 -0.110474  0.066928  0.128539   \n",
            "1  0.085102 -0.255425  ... -0.225775 -0.638672  0.101288 -0.339846  0.167170   \n",
            "2  0.247676 -1.514654  ...  0.247998  0.771679  0.909412 -0.689281 -0.327642   \n",
            "3  0.377436 -1.387024  ... -0.108300  0.005274 -0.190321 -1.175575  0.647376   \n",
            "4 -0.270533  0.817739  ... -0.009431  0.798278 -0.137458  0.141267 -0.206010   \n",
            "5  0.260314 -0.568671  ... -0.208254 -0.559825 -0.026398 -0.371427 -0.232794   \n",
            "6  0.081213  0.464960  ... -0.167716 -0.270710 -0.154104 -0.780055  0.750137   \n",
            "7 -3.807864  0.615375  ...  1.943465 -1.015455  0.057504 -0.649709 -0.415267   \n",
            "8  0.851084 -0.392048  ... -0.073425 -0.268092 -0.204233  1.011592  0.373205   \n",
            "9  0.069539 -0.736727  ... -0.246914 -0.633753 -0.120794 -0.385050 -0.069733   \n",
            "\n",
            "        V26       V27       V28  Amount  class  \n",
            "0 -0.189115  0.133558 -0.021053  149.62      0  \n",
            "1  0.125895 -0.008983  0.014724    2.69      0  \n",
            "2 -0.139097 -0.055353 -0.059752  378.66      0  \n",
            "3 -0.221929  0.062723  0.061458  123.50      0  \n",
            "4  0.502292  0.219422  0.215153   69.99      0  \n",
            "5  0.105915  0.253844  0.081080    3.67      0  \n",
            "6 -0.257237  0.034507  0.005168    4.99      0  \n",
            "7 -0.051634 -1.206921 -1.085339   40.80      0  \n",
            "8 -0.384157  0.011747  0.142404   93.20      0  \n",
            "9  0.094199  0.246219  0.083076    3.68      0  \n",
            "\n",
            "[10 rows x 31 columns]\n"
          ]
        }
      ]
    },
    {
      "cell_type": "code",
      "source": [
        "# print the information about the columns\n",
        "print(data.info())"
      ],
      "metadata": {
        "colab": {
          "base_uri": "https://localhost:8080/"
        },
        "id": "PlagL38y68WZ",
        "outputId": "5afcb553-22c5-4d0a-9d0d-cdcc3e4aec14"
      },
      "execution_count": 4,
      "outputs": [
        {
          "output_type": "stream",
          "name": "stdout",
          "text": [
            "<class 'pandas.core.frame.DataFrame'>\n",
            "RangeIndex: 284807 entries, 0 to 284806\n",
            "Data columns (total 31 columns):\n",
            " #   Column  Non-Null Count   Dtype  \n",
            "---  ------  --------------   -----  \n",
            " 0   Time    284807 non-null  float64\n",
            " 1   V1      284807 non-null  float64\n",
            " 2   V2      284807 non-null  float64\n",
            " 3   V3      284807 non-null  float64\n",
            " 4   V4      284807 non-null  float64\n",
            " 5   V5      284807 non-null  float64\n",
            " 6   V6      284807 non-null  float64\n",
            " 7   V7      284807 non-null  float64\n",
            " 8   V8      284807 non-null  float64\n",
            " 9   V9      284807 non-null  float64\n",
            " 10  V10     284807 non-null  float64\n",
            " 11  V11     284807 non-null  float64\n",
            " 12  V12     284807 non-null  float64\n",
            " 13  V13     284807 non-null  float64\n",
            " 14  V14     284807 non-null  float64\n",
            " 15  V15     284807 non-null  float64\n",
            " 16  V16     284807 non-null  float64\n",
            " 17  V17     284807 non-null  float64\n",
            " 18  V18     284807 non-null  float64\n",
            " 19  V19     284807 non-null  float64\n",
            " 20  V20     284807 non-null  float64\n",
            " 21  V21     284807 non-null  float64\n",
            " 22  V22     284807 non-null  float64\n",
            " 23  V23     284807 non-null  float64\n",
            " 24  V24     284807 non-null  float64\n",
            " 25  V25     284807 non-null  float64\n",
            " 26  V26     284807 non-null  float64\n",
            " 27  V27     284807 non-null  float64\n",
            " 28  V28     284807 non-null  float64\n",
            " 29  Amount  284807 non-null  float64\n",
            " 30  class   284807 non-null  int64  \n",
            "dtypes: float64(30), int64(1)\n",
            "memory usage: 67.4 MB\n",
            "None\n"
          ]
        }
      ]
    },
    {
      "cell_type": "code",
      "source": [
        "# describe the dataset\n",
        "print(data.describe())"
      ],
      "metadata": {
        "colab": {
          "base_uri": "https://localhost:8080/"
        },
        "id": "C1MsUixu7Iaw",
        "outputId": "0d38cfeb-fe56-4e44-b18a-6b7564648a8e"
      },
      "execution_count": 5,
      "outputs": [
        {
          "output_type": "stream",
          "name": "stdout",
          "text": [
            "                Time            V1            V2            V3            V4  \\\n",
            "count  284807.000000  2.848070e+05  2.848070e+05  2.848070e+05  2.848070e+05   \n",
            "mean    94813.859575  1.759061e-12 -8.251130e-13 -9.654937e-13  8.321385e-13   \n",
            "std     47488.145955  1.958696e+00  1.651309e+00  1.516255e+00  1.415869e+00   \n",
            "min         0.000000 -5.640751e+01 -7.271573e+01 -4.832559e+01 -5.683171e+00   \n",
            "25%     54201.500000 -9.203734e-01 -5.985499e-01 -8.903648e-01 -8.486401e-01   \n",
            "50%     84692.000000  1.810880e-02  6.548556e-02  1.798463e-01 -1.984653e-02   \n",
            "75%    139320.500000  1.315642e+00  8.037239e-01  1.027196e+00  7.433413e-01   \n",
            "max    172792.000000  2.454930e+00  2.205773e+01  9.382558e+00  1.687534e+01   \n",
            "\n",
            "                 V5            V6            V7            V8            V9  \\\n",
            "count  2.848070e+05  2.848070e+05  2.848070e+05  2.848070e+05  2.848070e+05   \n",
            "mean   1.649999e-13  4.248366e-13 -3.054600e-13  8.777971e-14 -1.179749e-12   \n",
            "std    1.380247e+00  1.332271e+00  1.237094e+00  1.194353e+00  1.098632e+00   \n",
            "min   -1.137433e+02 -2.616051e+01 -4.355724e+01 -7.321672e+01 -1.343407e+01   \n",
            "25%   -6.915971e-01 -7.682956e-01 -5.540759e-01 -2.086297e-01 -6.430976e-01   \n",
            "50%   -5.433583e-02 -2.741871e-01  4.010308e-02  2.235804e-02 -5.142873e-02   \n",
            "75%    6.119264e-01  3.985649e-01  5.704361e-01  3.273459e-01  5.971390e-01   \n",
            "max    3.480167e+01  7.330163e+01  1.205895e+02  2.000721e+01  1.559499e+01   \n",
            "\n",
            "       ...           V21           V22           V23           V24  \\\n",
            "count  ...  2.848070e+05  2.848070e+05  2.848070e+05  2.848070e+05   \n",
            "mean   ... -3.405756e-13 -5.723197e-13 -9.725856e-13  1.464150e-12   \n",
            "std    ...  7.345240e-01  7.257016e-01  6.244603e-01  6.056471e-01   \n",
            "min    ... -3.483038e+01 -1.093314e+01 -4.480774e+01 -2.836627e+00   \n",
            "25%    ... -2.283949e-01 -5.423504e-01 -1.618463e-01 -3.545861e-01   \n",
            "50%    ... -2.945017e-02  6.781943e-03 -1.119293e-02  4.097606e-02   \n",
            "75%    ...  1.863772e-01  5.285536e-01  1.476421e-01  4.395266e-01   \n",
            "max    ...  2.720284e+01  1.050309e+01  2.252841e+01  4.584549e+00   \n",
            "\n",
            "                V25           V26           V27           V28         Amount  \\\n",
            "count  2.848070e+05  2.848070e+05  2.848070e+05  2.848070e+05  284807.000000   \n",
            "mean  -6.987102e-13 -5.617874e-13  3.332082e-12 -3.518874e-12      88.349619   \n",
            "std    5.212781e-01  4.822270e-01  4.036325e-01  3.300833e-01     250.120109   \n",
            "min   -1.029540e+01 -2.604551e+00 -2.256568e+01 -1.543008e+01       0.000000   \n",
            "25%   -3.171451e-01 -3.269839e-01 -7.083953e-02 -5.295979e-02       5.600000   \n",
            "50%    1.659350e-02 -5.213911e-02  1.342146e-03  1.124383e-02      22.000000   \n",
            "75%    3.507156e-01  2.409522e-01  9.104512e-02  7.827995e-02      77.165000   \n",
            "max    7.519589e+00  3.517346e+00  3.161220e+01  3.384781e+01   25691.160000   \n",
            "\n",
            "               class  \n",
            "count  284807.000000  \n",
            "mean        0.001727  \n",
            "std         0.041527  \n",
            "min         0.000000  \n",
            "25%         0.000000  \n",
            "50%         0.000000  \n",
            "75%         0.000000  \n",
            "max         1.000000  \n",
            "\n",
            "[8 rows x 31 columns]\n"
          ]
        }
      ]
    },
    {
      "cell_type": "code",
      "source": [
        "# checking for a missing values\n",
        "print(data.isna().sum())"
      ],
      "metadata": {
        "colab": {
          "base_uri": "https://localhost:8080/"
        },
        "id": "ctZvSDrW7N8W",
        "outputId": "0a83b975-6092-4925-d381-95e4fb5590d5"
      },
      "execution_count": 6,
      "outputs": [
        {
          "output_type": "stream",
          "name": "stdout",
          "text": [
            "Time      0\n",
            "V1        0\n",
            "V2        0\n",
            "V3        0\n",
            "V4        0\n",
            "V5        0\n",
            "V6        0\n",
            "V7        0\n",
            "V8        0\n",
            "V9        0\n",
            "V10       0\n",
            "V11       0\n",
            "V12       0\n",
            "V13       0\n",
            "V14       0\n",
            "V15       0\n",
            "V16       0\n",
            "V17       0\n",
            "V18       0\n",
            "V19       0\n",
            "V20       0\n",
            "V21       0\n",
            "V22       0\n",
            "V23       0\n",
            "V24       0\n",
            "V25       0\n",
            "V26       0\n",
            "V27       0\n",
            "V28       0\n",
            "Amount    0\n",
            "class     0\n",
            "dtype: int64\n"
          ]
        }
      ]
    },
    {
      "cell_type": "code",
      "source": [
        "#drop the Time column\n",
        "data.drop('Time',axis = 1, inplace = True)\n",
        "\n",
        "# define x and y(Features and target)\n",
        "X = data.drop('class',axis = 1).values\n",
        "Y = data['class']"
      ],
      "metadata": {
        "id": "dtKSkM8o7Xzd"
      },
      "execution_count": 7,
      "outputs": []
    },
    {
      "cell_type": "code",
      "source": [
        "# print the each class counts\n",
        "print(Y.value_counts())"
      ],
      "metadata": {
        "colab": {
          "base_uri": "https://localhost:8080/"
        },
        "id": "EtGSgIFO-W3P",
        "outputId": "41e6e4ae-6574-4ea0-f3b0-60d2f147e2ec"
      },
      "execution_count": 13,
      "outputs": [
        {
          "output_type": "stream",
          "name": "stdout",
          "text": [
            "0    284315\n",
            "1       492\n",
            "Name: class, dtype: int64\n"
          ]
        }
      ]
    },
    {
      "cell_type": "code",
      "source": [
        "# plot the distribution of the class\n",
        "plt.bar(Y.unique(),Y.value_counts())\n",
        "plt.xlabel(\"class\")\n",
        "plt.ylabel(\"count\")\n",
        "plt.xticks([0, 1])\n",
        "plt.show()"
      ],
      "metadata": {
        "colab": {
          "base_uri": "https://localhost:8080/",
          "height": 449
        },
        "id": "eTTiayD4vCHQ",
        "outputId": "7e8a4e73-57a8-463d-b524-6fa757783794"
      },
      "execution_count": 20,
      "outputs": [
        {
          "output_type": "display_data",
          "data": {
            "text/plain": [
              "<Figure size 640x480 with 1 Axes>"
            ],
            "image/png": "[encoded data removed]"
          },
          "metadata": {}
        }
      ]
    },
    {
      "cell_type": "code",
      "source": [
        "# standardize the features\n",
        "scaler = StandardScaler()\n",
        "X = scaler.fit_transform(X)"
      ],
      "metadata": {
        "id": "b_21E-4p-3bf"
      },
      "execution_count": 16,
      "outputs": []
    },
    {
      "cell_type": "code",
      "source": [
        "# perform unser sampling to get the balanced data\n",
        "sampler = under_sampling.RandomUnderSampler(random_state = 42, sampling_strategy=1)\n",
        "X_sampled, Y_sampled = sampler.fit_resample(X, Y)"
      ],
      "metadata": {
        "id": "5mapjg1W_JU_"
      },
      "execution_count": 17,
      "outputs": []
    },
    {
      "cell_type": "code",
      "source": [
        "# print the each class counts\n",
        "print(Y_sampled.value_counts())"
      ],
      "metadata": {
        "colab": {
          "base_uri": "https://localhost:8080/"
        },
        "id": "uc7qrb9dADZZ",
        "outputId": "2373428c-0640-413c-8ad8-261fa2282006"
      },
      "execution_count": 18,
      "outputs": [
        {
          "output_type": "stream",
          "name": "stdout",
          "text": [
            "0    492\n",
            "1    492\n",
            "Name: class, dtype: int64\n"
          ]
        }
      ]
    },
    {
      "cell_type": "code",
      "source": [
        "# plot the distribution of the class\n",
        "plt.bar(Y_sampled.unique(),Y_sampled.value_counts())\n",
        "plt.xlabel(\"class\")\n",
        "plt.ylabel(\"count\")\n",
        "plt.xticks([0, 1])\n",
        "plt.show()"
      ],
      "metadata": {
        "colab": {
          "base_uri": "https://localhost:8080/",
          "height": 449
        },
        "id": "dGUe7EwOwfzH",
        "outputId": "9bc63784-2c60-41fb-cda3-6dc6c48172ac"
      },
      "execution_count": 21,
      "outputs": [
        {
          "output_type": "display_data",
          "data": {
            "text/plain": [
              "<Figure size 640x480 with 1 Axes>"
            ],
            "image/png": "[encoded data removed]"
          },
          "metadata": {}
        }
      ]
    },
    {
      "cell_type": "markdown",
      "source": [
        "# FNN model:"
      ],
      "metadata": {
        "id": "WoWyxtvw3-cn"
      }
    },
    {
      "cell_type": "code",
      "source": [
        "# split the data into training and testing set\n",
        "X_train, X_test, y_train, y_test = train_test_split(X_sampled, Y_sampled, test_size=0.3, random_state=42)\n",
        "print(X_train.shape, y_train.shape)\n",
        "print(X_test.shape, y_test.shape)"
      ],
      "metadata": {
        "colab": {
          "base_uri": "https://localhost:8080/"
        },
        "id": "fU6E3a8KDZFY",
        "outputId": "f7efa300-334c-4d78-869f-933ed9e140f7"
      },
      "execution_count": 23,
      "outputs": [
        {
          "output_type": "stream",
          "name": "stdout",
          "text": [
            "(688, 29) (688,)\n",
            "(296, 29) (296,)\n"
          ]
        }
      ]
    },
    {
      "cell_type": "code",
      "source": [
        "# define the simple feedforward neural network(FNN) model\n",
        "FNN_model = Sequential([\n",
        "    Dense(64, activation = 'relu', input_shape = (X_train.shape[1],)),\n",
        "    Dense(32, activation = 'relu'),\n",
        "    Dense(16, activation = 'relu'),\n",
        "    Dense(8, activation = 'relu'),\n",
        "    Dense(4, activation = 'relu'),\n",
        "    Dense(2, activation = 'relu'),\n",
        "    Dense(1, activation = 'sigmoid'),\n",
        "])"
      ],
      "metadata": {
        "id": "9sGrVNWWDltP"
      },
      "execution_count": 24,
      "outputs": []
    },
    {
      "cell_type": "code",
      "source": [
        "# compile the model\n",
        "FNN_model.compile(optimizer =Adam(learning_rate=0.001), loss = 'binary_crossentropy', metrics = ['accuracy'])"
      ],
      "metadata": {
        "id": "NKDm2xOCGK-w"
      },
      "execution_count": 25,
      "outputs": []
    },
    {
      "cell_type": "code",
      "source": [
        "# model summary\n",
        "print(FNN_model.summary())"
      ],
      "metadata": {
        "colab": {
          "base_uri": "https://localhost:8080/"
        },
        "id": "5WCngC3iH5tM",
        "outputId": "85b73021-20fe-4661-f547-64a3cdbfbd10"
      },
      "execution_count": 26,
      "outputs": [
        {
          "output_type": "stream",
          "name": "stdout",
          "text": [
            "Model: \"sequential\"\n",
            "_________________________________________________________________\n",
            " Layer (type)                Output Shape              Param #   \n",
            "=================================================================\n",
            " dense (Dense)               (None, 64)                1920      \n",
            "                                                                 \n",
            " dense_1 (Dense)             (None, 32)                2080      \n",
            "                                                                 \n",
            " dense_2 (Dense)             (None, 16)                528       \n",
            "                                                                 \n",
            " dense_3 (Dense)             (None, 8)                 136       \n",
            "                                                                 \n",
            " dense_4 (Dense)             (None, 4)                 36        \n",
            "                                                                 \n",
            " dense_5 (Dense)             (None, 2)                 10        \n",
            "                                                                 \n",
            " dense_6 (Dense)             (None, 1)                 3         \n",
            "                                                                 \n",
            "=================================================================\n",
            "Total params: 4,713\n",
            "Trainable params: 4,713\n",
            "Non-trainable params: 0\n",
            "_________________________________________________________________\n",
            "None\n"
          ]
        }
      ]
    },
    {
      "cell_type": "code",
      "source": [
        "# train the model using training set\n",
        "FNN_model.fit(X_train, y_train, epochs = 30, batch_size =32,verbose = 'auto', validation_data = (X_test, y_test))"
      ],
      "metadata": {
        "colab": {
          "base_uri": "https://localhost:8080/"
        },
        "id": "4LQ0MWkvGsB4",
        "outputId": "cc8e1dd3-ac04-4a9b-c98a-090c8b14f89b"
      },
      "execution_count": 27,
      "outputs": [
        {
          "output_type": "stream",
          "name": "stdout",
          "text": [
            "Epoch 1/30\n",
            "22/22 [==============================] - 1s 15ms/step - loss: 0.5975 - accuracy: 0.6468 - val_loss: 0.5146 - val_accuracy: 0.6791\n",
            "Epoch 2/30\n",
            "22/22 [==============================] - 0s 4ms/step - loss: 0.4526 - accuracy: 0.8009 - val_loss: 0.4271 - val_accuracy: 0.8446\n",
            "Epoch 3/30\n",
            "22/22 [==============================] - 0s 5ms/step - loss: 0.3991 - accuracy: 0.9070 - val_loss: 0.4056 - val_accuracy: 0.9155\n",
            "Epoch 4/30\n",
            "22/22 [==============================] - 0s 4ms/step - loss: 0.3821 - accuracy: 0.9404 - val_loss: 0.3962 - val_accuracy: 0.9189\n",
            "Epoch 5/30\n",
            "22/22 [==============================] - 0s 5ms/step - loss: 0.3714 - accuracy: 0.9433 - val_loss: 0.3938 - val_accuracy: 0.9155\n",
            "Epoch 6/30\n",
            "22/22 [==============================] - 0s 4ms/step - loss: 0.3610 - accuracy: 0.9549 - val_loss: 0.3867 - val_accuracy: 0.9257\n",
            "Epoch 7/30\n",
            "22/22 [==============================] - 0s 4ms/step - loss: 0.3518 - accuracy: 0.9564 - val_loss: 0.3867 - val_accuracy: 0.9257\n",
            "Epoch 8/30\n",
            "22/22 [==============================] - 0s 4ms/step - loss: 0.3438 - accuracy: 0.9578 - val_loss: 0.3801 - val_accuracy: 0.9324\n",
            "Epoch 9/30\n",
            "22/22 [==============================] - 0s 3ms/step - loss: 0.3361 - accuracy: 0.9680 - val_loss: 0.3877 - val_accuracy: 0.9291\n",
            "Epoch 10/30\n",
            "22/22 [==============================] - 0s 4ms/step - loss: 0.3283 - accuracy: 0.9651 - val_loss: 0.3902 - val_accuracy: 0.9223\n",
            "Epoch 11/30\n",
            "22/22 [==============================] - 0s 4ms/step - loss: 0.3207 - accuracy: 0.9695 - val_loss: 0.3854 - val_accuracy: 0.9291\n",
            "Epoch 12/30\n",
            "22/22 [==============================] - 0s 4ms/step - loss: 0.3140 - accuracy: 0.9753 - val_loss: 0.3996 - val_accuracy: 0.9189\n",
            "Epoch 13/30\n",
            "22/22 [==============================] - 0s 4ms/step - loss: 0.3065 - accuracy: 0.9782 - val_loss: 0.3939 - val_accuracy: 0.9291\n",
            "Epoch 14/30\n",
            "22/22 [==============================] - 0s 4ms/step - loss: 0.3005 - accuracy: 0.9797 - val_loss: 0.3962 - val_accuracy: 0.9257\n",
            "Epoch 15/30\n",
            "22/22 [==============================] - 0s 4ms/step - loss: 0.2944 - accuracy: 0.9797 - val_loss: 0.4126 - val_accuracy: 0.9223\n",
            "Epoch 16/30\n",
            "22/22 [==============================] - 0s 5ms/step - loss: 0.2890 - accuracy: 0.9782 - val_loss: 0.3902 - val_accuracy: 0.9257\n",
            "Epoch 17/30\n",
            "22/22 [==============================] - 0s 5ms/step - loss: 0.2832 - accuracy: 0.9811 - val_loss: 0.4147 - val_accuracy: 0.9257\n",
            "Epoch 18/30\n",
            "22/22 [==============================] - 0s 4ms/step - loss: 0.2766 - accuracy: 0.9840 - val_loss: 0.4092 - val_accuracy: 0.9223\n",
            "Epoch 19/30\n",
            "22/22 [==============================] - 0s 4ms/step - loss: 0.2713 - accuracy: 0.9840 - val_loss: 0.4205 - val_accuracy: 0.9257\n",
            "Epoch 20/30\n",
            "22/22 [==============================] - 0s 4ms/step - loss: 0.2672 - accuracy: 0.9840 - val_loss: 0.4148 - val_accuracy: 0.9257\n",
            "Epoch 21/30\n",
            "22/22 [==============================] - 0s 4ms/step - loss: 0.2622 - accuracy: 0.9840 - val_loss: 0.4147 - val_accuracy: 0.9291\n",
            "Epoch 22/30\n",
            "22/22 [==============================] - 0s 4ms/step - loss: 0.2566 - accuracy: 0.9869 - val_loss: 0.4310 - val_accuracy: 0.9223\n",
            "Epoch 23/30\n",
            "22/22 [==============================] - 0s 4ms/step - loss: 0.2526 - accuracy: 0.9869 - val_loss: 0.4290 - val_accuracy: 0.9223\n",
            "Epoch 24/30\n",
            "22/22 [==============================] - 0s 4ms/step - loss: 0.2488 - accuracy: 0.9869 - val_loss: 0.4449 - val_accuracy: 0.9189\n",
            "Epoch 25/30\n",
            "22/22 [==============================] - 0s 3ms/step - loss: 0.2444 - accuracy: 0.9869 - val_loss: 0.4386 - val_accuracy: 0.9223\n",
            "Epoch 26/30\n",
            "22/22 [==============================] - 0s 4ms/step - loss: 0.2406 - accuracy: 0.9869 - val_loss: 0.4690 - val_accuracy: 0.9155\n",
            "Epoch 27/30\n",
            "22/22 [==============================] - 0s 4ms/step - loss: 0.2370 - accuracy: 0.9869 - val_loss: 0.4469 - val_accuracy: 0.9257\n",
            "Epoch 28/30\n",
            "22/22 [==============================] - 0s 5ms/step - loss: 0.2339 - accuracy: 0.9869 - val_loss: 0.4611 - val_accuracy: 0.9155\n",
            "Epoch 29/30\n",
            "22/22 [==============================] - 0s 4ms/step - loss: 0.2303 - accuracy: 0.9869 - val_loss: 0.4601 - val_accuracy: 0.9223\n",
            "Epoch 30/30\n",
            "22/22 [==============================] - 0s 4ms/step - loss: 0.2269 - accuracy: 0.9869 - val_loss: 0.4633 - val_accuracy: 0.9189\n"
          ]
        },
        {
          "output_type": "execute_result",
          "data": {
            "text/plain": [
              "<keras.callbacks.History at 0x7f5c6e4735b0>"
            ]
          },
          "metadata": {},
          "execution_count": 27
        }
      ]
    },
    {
      "cell_type": "code",
      "source": [
        "# evaluate the model using the testing set and training set\n",
        "train_loss, train_accuracy = FNN_model.evaluate(X_train, y_train)\n",
        "test_loss, test_accuracy = FNN_model.evaluate(X_test, y_test)\n",
        "print(\"FNN model Train Loss     : \", round(train_loss,4))\n",
        "print(\"FNN model Test Loss      : \", round(test_loss,4))\n",
        "print(\"FNN model Train Accuracy : \", round(train_accuracy,4))\n",
        "print(\"FNN model Test Accuracy  : \", round(test_accuracy,4))"
      ],
      "metadata": {
        "colab": {
          "base_uri": "https://localhost:8080/"
        },
        "id": "V5ntHoHaMYuX",
        "outputId": "00c39027-2faf-433a-9756-dc8c996aea36"
      },
      "execution_count": 28,
      "outputs": [
        {
          "output_type": "stream",
          "name": "stdout",
          "text": [
            "22/22 [==============================] - 0s 4ms/step - loss: 0.2251 - accuracy: 0.9869\n",
            "10/10 [==============================] - 0s 4ms/step - loss: 0.4633 - accuracy: 0.9189\n",
            "FNN model Train Loss     :  0.2251\n",
            "FNN model Test Loss      :  0.4633\n",
            "FNN model Train Accuracy :  0.9869\n",
            "FNN model Test Accuracy  :  0.9189\n"
          ]
        }
      ]
    },
    {
      "cell_type": "code",
      "source": [
        "# classification report\n",
        "pred = FNN_model.predict(X_test)\n",
        "print(classification_report(y_test, pred.round()))"
      ],
      "metadata": {
        "colab": {
          "base_uri": "https://localhost:8080/"
        },
        "id": "oSwAKXs63tco",
        "outputId": "026c2412-2aaa-4c02-ab8c-18351e4d344d"
      },
      "execution_count": 29,
      "outputs": [
        {
          "output_type": "stream",
          "name": "stdout",
          "text": [
            "10/10 [==============================] - 0s 2ms/step\n",
            "              precision    recall  f1-score   support\n",
            "\n",
            "           0       0.93      0.91      0.92       150\n",
            "           1       0.91      0.92      0.92       146\n",
            "\n",
            "    accuracy                           0.92       296\n",
            "   macro avg       0.92      0.92      0.92       296\n",
            "weighted avg       0.92      0.92      0.92       296\n",
            "\n"
          ]
        }
      ]
    },
    {
      "cell_type": "code",
      "source": [
        "# confusion matrix\n",
        "conf_matrix = confusion_matrix(y_test, pred.round())\n",
        "ConfusionMatrixDisplay(confusion_matrix= conf_matrix).plot()\n",
        "plt.show()"
      ],
      "metadata": {
        "colab": {
          "base_uri": "https://localhost:8080/",
          "height": 449
        },
        "id": "s_KVMcLP3uzJ",
        "outputId": "766de4b5-140f-4484-8427-d1f4828b7cf8"
      },
      "execution_count": 30,
      "outputs": [
        {
          "output_type": "display_data",
          "data": {
            "text/plain": [
              "<Figure size 640x480 with 2 Axes>"
            ],
            "image/png": "[encoded data removed]"
          },
          "metadata": {}
        }
      ]
    },
    {
      "cell_type": "markdown",
      "source": [
        "# CNN:"
      ],
      "metadata": {
        "id": "6-KMGp1f33mw"
      }
    },
    {
      "cell_type": "code",
      "source": [
        "# reshape the features for CNN model\n",
        "X_sampled = X_sampled.reshape(X_sampled.shape[0], X_sampled.shape[1],1)"
      ],
      "metadata": {
        "id": "COXC6RF3UYLG"
      },
      "execution_count": null,
      "outputs": []
    },
    {
      "cell_type": "code",
      "source": [
        "# split the data into training and testing set\n",
        "X_train, X_test, y_train, y_test = train_test_split(X_sampled, Y_sampled, test_size=0.3, random_state=42)\n",
        "print(X_train.shape, y_train.shape)\n",
        "print(X_test.shape, y_test.shape)"
      ],
      "metadata": {
        "colab": {
          "base_uri": "https://localhost:8080/"
        },
        "id": "PYesuoTzWQsc",
        "outputId": "2be3080f-6cca-42ad-c149-51cace96b8f7"
      },
      "execution_count": null,
      "outputs": [
        {
          "output_type": "stream",
          "name": "stdout",
          "text": [
            "(688, 29, 1) (688,)\n",
            "(296, 29, 1) (296,)\n"
          ]
        }
      ]
    },
    {
      "cell_type": "code",
      "source": [
        "# Define the CNN model\n",
        "CNN_model =  Sequential([\n",
        "    Conv1D(64,2,activation = 'relu', input_shape = (X_train[0].shape)),\n",
        "    BatchNormalization(),\n",
        "    Dropout(0.2),\n",
        "    Conv1D(128,2,activation = 'relu'),\n",
        "    BatchNormalization(),\n",
        "    Dropout(0.5),\n",
        "    Flatten(),\n",
        "    Dense(512, activation = 'relu'),\n",
        "    Dropout(0.5),\n",
        "    Dense(1, activation = 'sigmoid')\n",
        "    ])"
      ],
      "metadata": {
        "id": "bXVWbLWUWqDp"
      },
      "execution_count": null,
      "outputs": []
    },
    {
      "cell_type": "code",
      "source": [
        "# print the model summary\n",
        "print(CNN_model.summary())"
      ],
      "metadata": {
        "colab": {
          "base_uri": "https://localhost:8080/"
        },
        "id": "X1K6TfKKgcSw",
        "outputId": "5373d507-ceed-4ca0-cae2-440990658792"
      },
      "execution_count": null,
      "outputs": [
        {
          "output_type": "stream",
          "name": "stdout",
          "text": [
            "Model: \"sequential_1\"\n",
            "_________________________________________________________________\n",
            " Layer (type)                Output Shape              Param #   \n",
            "=================================================================\n",
            " conv1d (Conv1D)             (None, 28, 64)            192       \n",
            "                                                                 \n",
            " batch_normalization (BatchN  (None, 28, 64)           256       \n",
            " ormalization)                                                   \n",
            "                                                                 \n",
            " dropout (Dropout)           (None, 28, 64)            0         \n",
            "                                                                 \n",
            " conv1d_1 (Conv1D)           (None, 27, 128)           16512     \n",
            "                                                                 \n",
            " batch_normalization_1 (Batc  (None, 27, 128)          512       \n",
            " hNormalization)                                                 \n",
            "                                                                 \n",
            " dropout_1 (Dropout)         (None, 27, 128)           0         \n",
            "                                                                 \n",
            " flatten (Flatten)           (None, 3456)              0         \n",
            "                                                                 \n",
            " dense_7 (Dense)             (None, 512)               1769984   \n",
            "                                                                 \n",
            " dropout_2 (Dropout)         (None, 512)               0         \n",
            "                                                                 \n",
            " dense_8 (Dense)             (None, 1)                 513       \n",
            "                                                                 \n",
            "=================================================================\n",
            "Total params: 1,787,969\n",
            "Trainable params: 1,787,585\n",
            "Non-trainable params: 384\n",
            "_________________________________________________________________\n",
            "None\n"
          ]
        }
      ]
    },
    {
      "cell_type": "code",
      "source": [
        "# compile the model\n",
        "CNN_model.compile(optimizer =Adam(learning_rate=0.0001), loss = 'binary_crossentropy', metrics = ['accuracy'])"
      ],
      "metadata": {
        "id": "18ZKeXDGhLbY"
      },
      "execution_count": null,
      "outputs": []
    },
    {
      "cell_type": "code",
      "source": [
        "# train the model using the training set and validating using the testing set\n",
        "CNN_model.fit(X_train, y_train, epochs = 30, batch_size =32, verbose= 'auto', validation_data = (X_test, y_test))"
      ],
      "metadata": {
        "colab": {
          "base_uri": "https://localhost:8080/"
        },
        "id": "NhpYfdqYhBmA",
        "outputId": "1d70be5f-5999-4745-e417-8b7cbaf64c4d"
      },
      "execution_count": null,
      "outputs": [
        {
          "output_type": "stream",
          "name": "stdout",
          "text": [
            "Epoch 1/30\n",
            "22/22 [==============================] - 1s 66ms/step - loss: 0.1005 - accuracy: 0.9666 - val_loss: 0.2025 - val_accuracy: 0.9324\n",
            "Epoch 2/30\n",
            "22/22 [==============================] - 1s 51ms/step - loss: 0.0887 - accuracy: 0.9666 - val_loss: 0.2023 - val_accuracy: 0.9358\n",
            "Epoch 3/30\n",
            "22/22 [==============================] - 1s 37ms/step - loss: 0.0855 - accuracy: 0.9724 - val_loss: 0.2057 - val_accuracy: 0.9358\n",
            "Epoch 4/30\n",
            "22/22 [==============================] - 1s 36ms/step - loss: 0.0723 - accuracy: 0.9738 - val_loss: 0.2098 - val_accuracy: 0.9358\n",
            "Epoch 5/30\n",
            "22/22 [==============================] - 1s 37ms/step - loss: 0.0803 - accuracy: 0.9709 - val_loss: 0.2089 - val_accuracy: 0.9324\n",
            "Epoch 6/30\n",
            "22/22 [==============================] - 1s 37ms/step - loss: 0.0745 - accuracy: 0.9767 - val_loss: 0.2121 - val_accuracy: 0.9358\n",
            "Epoch 7/30\n",
            "22/22 [==============================] - 1s 32ms/step - loss: 0.0746 - accuracy: 0.9724 - val_loss: 0.2115 - val_accuracy: 0.9324\n",
            "Epoch 8/30\n",
            "22/22 [==============================] - 1s 37ms/step - loss: 0.0824 - accuracy: 0.9695 - val_loss: 0.2107 - val_accuracy: 0.9291\n",
            "Epoch 9/30\n",
            "22/22 [==============================] - 1s 34ms/step - loss: 0.0648 - accuracy: 0.9753 - val_loss: 0.2130 - val_accuracy: 0.9324\n",
            "Epoch 10/30\n",
            "22/22 [==============================] - 1s 36ms/step - loss: 0.0722 - accuracy: 0.9767 - val_loss: 0.2211 - val_accuracy: 0.9358\n",
            "Epoch 11/30\n",
            "22/22 [==============================] - 1s 41ms/step - loss: 0.0714 - accuracy: 0.9811 - val_loss: 0.2249 - val_accuracy: 0.9324\n",
            "Epoch 12/30\n",
            "22/22 [==============================] - 1s 53ms/step - loss: 0.0786 - accuracy: 0.9637 - val_loss: 0.2244 - val_accuracy: 0.9324\n",
            "Epoch 13/30\n",
            "22/22 [==============================] - 1s 50ms/step - loss: 0.0650 - accuracy: 0.9797 - val_loss: 0.2238 - val_accuracy: 0.9324\n",
            "Epoch 14/30\n",
            "22/22 [==============================] - 1s 51ms/step - loss: 0.0590 - accuracy: 0.9782 - val_loss: 0.2269 - val_accuracy: 0.9324\n",
            "Epoch 15/30\n",
            "22/22 [==============================] - 1s 43ms/step - loss: 0.0603 - accuracy: 0.9767 - val_loss: 0.2275 - val_accuracy: 0.9426\n",
            "Epoch 16/30\n",
            "22/22 [==============================] - 1s 33ms/step - loss: 0.0653 - accuracy: 0.9797 - val_loss: 0.2282 - val_accuracy: 0.9358\n",
            "Epoch 17/30\n",
            "22/22 [==============================] - 1s 34ms/step - loss: 0.0564 - accuracy: 0.9811 - val_loss: 0.2213 - val_accuracy: 0.9392\n",
            "Epoch 18/30\n",
            "22/22 [==============================] - 1s 34ms/step - loss: 0.0714 - accuracy: 0.9738 - val_loss: 0.2254 - val_accuracy: 0.9392\n",
            "Epoch 19/30\n",
            "22/22 [==============================] - 1s 32ms/step - loss: 0.0630 - accuracy: 0.9753 - val_loss: 0.2243 - val_accuracy: 0.9358\n",
            "Epoch 20/30\n",
            "22/22 [==============================] - 1s 36ms/step - loss: 0.0734 - accuracy: 0.9680 - val_loss: 0.2213 - val_accuracy: 0.9358\n",
            "Epoch 21/30\n",
            "22/22 [==============================] - 1s 32ms/step - loss: 0.0657 - accuracy: 0.9695 - val_loss: 0.2218 - val_accuracy: 0.9358\n",
            "Epoch 22/30\n",
            "22/22 [==============================] - 1s 37ms/step - loss: 0.0582 - accuracy: 0.9797 - val_loss: 0.2221 - val_accuracy: 0.9392\n",
            "Epoch 23/30\n",
            "22/22 [==============================] - 1s 33ms/step - loss: 0.0613 - accuracy: 0.9753 - val_loss: 0.2294 - val_accuracy: 0.9324\n",
            "Epoch 24/30\n",
            "22/22 [==============================] - 1s 37ms/step - loss: 0.0554 - accuracy: 0.9753 - val_loss: 0.2282 - val_accuracy: 0.9358\n",
            "Epoch 25/30\n",
            "22/22 [==============================] - 1s 33ms/step - loss: 0.0604 - accuracy: 0.9695 - val_loss: 0.2292 - val_accuracy: 0.9358\n",
            "Epoch 26/30\n",
            "22/22 [==============================] - 1s 35ms/step - loss: 0.0581 - accuracy: 0.9797 - val_loss: 0.2292 - val_accuracy: 0.9392\n",
            "Epoch 27/30\n",
            "22/22 [==============================] - 1s 33ms/step - loss: 0.0573 - accuracy: 0.9797 - val_loss: 0.2303 - val_accuracy: 0.9358\n",
            "Epoch 28/30\n",
            "22/22 [==============================] - 1s 36ms/step - loss: 0.0578 - accuracy: 0.9797 - val_loss: 0.2312 - val_accuracy: 0.9358\n",
            "Epoch 29/30\n",
            "22/22 [==============================] - 1s 51ms/step - loss: 0.0594 - accuracy: 0.9753 - val_loss: 0.2351 - val_accuracy: 0.9358\n",
            "Epoch 30/30\n",
            "22/22 [==============================] - 1s 54ms/step - loss: 0.0621 - accuracy: 0.9767 - val_loss: 0.2310 - val_accuracy: 0.9291\n"
          ]
        },
        {
          "output_type": "execute_result",
          "data": {
            "text/plain": [
              "<keras.callbacks.History at 0x7fdff214e470>"
            ]
          },
          "metadata": {},
          "execution_count": 30
        }
      ]
    },
    {
      "cell_type": "code",
      "source": [
        "# evaluate the model\n",
        "train_loss, train_accuracy = CNN_model.evaluate(X_train, y_train)\n",
        "test_loss, test_accuracy = CNN_model.evaluate(X_test, y_test)\n",
        "print(\"CNN model Train Loss     : \", round(train_loss,4))\n",
        "print(\"CNN model Test Loss      : \", round(test_loss,4))\n",
        "print(\"CNN model Train Accuracy : \", round(train_accuracy,4))\n",
        "print(\"CNN model Test Accuracy  : \", round(test_accuracy,4))"
      ],
      "metadata": {
        "colab": {
          "base_uri": "https://localhost:8080/"
        },
        "id": "uTus9sr8hfxJ",
        "outputId": "cff11476-868c-481a-b534-86186d2e7138"
      },
      "execution_count": null,
      "outputs": [
        {
          "output_type": "stream",
          "name": "stdout",
          "text": [
            "22/22 [==============================] - 0s 16ms/step - loss: 0.0237 - accuracy: 0.9956\n",
            "10/10 [==============================] - 0s 16ms/step - loss: 0.2310 - accuracy: 0.9291\n",
            "CNN model Train Loss     :  0.0237\n",
            "CNN model Test Loss      :  0.231\n",
            "CNN model Train Accuracy :  0.9956\n",
            "CNN model Test Accuracy  :  0.9291\n"
          ]
        }
      ]
    },
    {
      "cell_type": "code",
      "source": [
        "# classification report\n",
        "pred = CNN_model.predict(X_test)\n",
        "print(classification_report(y_test, pred.round()))"
      ],
      "metadata": {
        "colab": {
          "base_uri": "https://localhost:8080/"
        },
        "id": "nlsfPuPGyCGy",
        "outputId": "2bb56ed9-68f0-469c-bf0c-e3954dfee976"
      },
      "execution_count": null,
      "outputs": [
        {
          "output_type": "stream",
          "name": "stdout",
          "text": [
            "10/10 [==============================] - 0s 7ms/step\n",
            "              precision    recall  f1-score   support\n",
            "\n",
            "           0       0.92      0.95      0.93       150\n",
            "           1       0.94      0.91      0.93       146\n",
            "\n",
            "    accuracy                           0.93       296\n",
            "   macro avg       0.93      0.93      0.93       296\n",
            "weighted avg       0.93      0.93      0.93       296\n",
            "\n"
          ]
        }
      ]
    },
    {
      "cell_type": "code",
      "source": [
        "# confusion matrix\n",
        "conf_matrix = confusion_matrix(y_test, pred.round())\n",
        "ConfusionMatrixDisplay(confusion_matrix= conf_matrix).plot()\n",
        "plt.show()"
      ],
      "metadata": {
        "colab": {
          "base_uri": "https://localhost:8080/",
          "height": 449
        },
        "id": "0jzmELXV1W1U",
        "outputId": "b5c57c95-443e-4437-c7c9-3fe3a2f7989e"
      },
      "execution_count": null,
      "outputs": [
        {
          "output_type": "display_data",
          "data": {
            "text/plain": [
              "<Figure size 640x480 with 2 Axes>"
            ],
            "image/png": "[encoded data removed]"
          },
          "metadata": {}
        }
      ]
    }
  ]
}